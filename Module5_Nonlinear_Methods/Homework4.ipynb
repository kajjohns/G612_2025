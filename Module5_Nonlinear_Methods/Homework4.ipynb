{
 "cells": [
  {
   "cell_type": "markdown",
   "id": "dca04d23",
   "metadata": {},
   "source": [
    "# G612 Homework #4: Log-Decay Nonlinear Inverse Problem\n",
    "\n",
    "## Problem Statement\n",
    "\n",
    "Consider the **log-decay observation equation**:\n",
    "\n",
    "$$d = a \\ln\\left(1 + \\frac{t}{t_R}\\right)$$\n",
    "\n",
    "where:\n",
    "- $d$ = observed data values\n",
    "- $t$ = observation times  \n",
    "- $a$ = unknown amplitude parameter\n",
    "- $t_R$ = unknown relaxation time parameter\n",
    "\n",
    "## Objectives\n",
    "\n",
    "### Part (a): Synthetic Data Generation and Grid Search\n",
    "- Create synthetic dataset with **true parameters**: $a = 1$, $t_R = 1$\n",
    "- Generate **20 observations** with Gaussian noise ($\\sigma = 0.5$)\n",
    "- Perform **grid search** to minimize: $\\Phi(a, t_R) = ||d - g(m)||^2$\n",
    "- Create **2D contour plot**  showing $\\Phi(a, t_R)$\n",
    "- Mark the **best-fitting model** as a circle on the plot\n",
    "\n",
    "### Part (b): Gauss-Newton Method (Linearization)\n",
    "- Implement **Gauss-Newton iterative method** to minimize $\\Phi(m) = ||d - g(m)||^2$\n",
    "- Solve for parameters $a$ and $t_R$ using **analytical Jacobian** (first derivatives)\n",
    "- **Analytical derivatives**:\n",
    "  $$\\frac{\\partial g}{\\partial a} = \\ln\\left(1 + \\frac{t}{t_R}\\right)$$\n",
    "  $$\\frac{\\partial g}{\\partial t_R} = -\\frac{a \\cdot t}{t_R(t_R + t)}$$\n",
    "\n",
    "### Part (c): Visualization of Iterative Solutions\n",
    "- **Plot each iteration** from Gauss-Newton method on the grid search figure from part (a)\n",
    "- Show **convergence path** from initial guess to final solution\n",
    "\n",
    "\n",
    "### Part (d): Bootstrap Uncertainty Estimation\n",
    "- Use **bootstrap resampling** with Gauss-Newton method to estimate parameter uncertainties\n",
    "- Generate **multiple bootstrap samples** by resampling data with replacement\n",
    "- Create **histograms** showing distributions of $a$ and $t_R$ estimates\n",
    "- **Overlay bootstrap samples** as points on the grid search image from part (a)\n",
    "- Compute **confidence intervals** for both parameters\n",
    "\n",
    "### Part (f): Nelder-Mead Method\n",
    "- Implement **Gauss-Newton iterative method** to minimize $\\Phi(m) = ||d - g(m)||^2$\n",
    "- Use SciPy built in Nelder-Mead method\n",
    "\n",
    "### Part (g): Boostrap Uncertainty Estimation\n",
    "- repeat steps of Part (d) with Nelder-Mead method\n"
   ]
  }
 ],
 "metadata": {
  "language_info": {
   "name": "python"
  }
 },
 "nbformat": 4,
 "nbformat_minor": 5
}
