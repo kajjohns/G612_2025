{
 "cells": [
  {
   "cell_type": "markdown",
   "id": "bb097929",
   "metadata": {},
   "source": [
    "\n",
    "1. Find all solutions to the following systems of linear equations.  \n",
    "   (a)  \n",
    "   $$\n",
    "   x_1 - 2x_2 + 2x_3 = 5 \\\\\n",
    "   x_1 - x_2 = -1 \\\\\n",
    "   -x_1 + x_2 + x_3 = 5\n",
    "   $$  \n",
    "   (b)  \n",
    "   $$\n",
    "   x_1 + x_2 + 3x_3 = 3 \\\\\n",
    "   -x_1 + x_2 + x_3 = -1 \\\\\n",
    "   2x_1 + 3x_2 + 8x_3 = 4\n",
    "   $$"
   ]
  },
  {
   "cell_type": "code",
   "execution_count": null,
   "id": "771be3bc",
   "metadata": {},
   "outputs": [],
   "source": [
    "## Python script for problem 1"
   ]
  },
  {
   "cell_type": "markdown",
   "id": "8147b4d6",
   "metadata": {},
   "source": [
    "Recall that these equations can be represented as lines and planes in space. IN this cell, for both (a) and (b), explain geometrically what your solution represents.\n",
    "\n",
    "Answer here:\n",
    "\n"
   ]
  },
  {
   "cell_type": "code",
   "execution_count": null,
   "id": "d0e75148",
   "metadata": {},
   "outputs": [],
   "source": [
    "## Now in this cell, create an example of a system of equations \n",
    "# that has infinite solutions and can be represented geometrically as a line. \n",
    "# Solve the system of equations and explain why the solution is a line. "
   ]
  },
  {
   "cell_type": "markdown",
   "id": "66571b77",
   "metadata": {},
   "source": [
    "\n",
    "2. Find a basis for the solutions to the following system of linear equations:  \n",
    "   $$\n",
    "   x_1 + 2x_2 - x_3 + x_4 = 0 \\\\\n",
    "   -x_1 - 2x_2 + 3x_3 + 5x_4 = 0 \\\\\n",
    "   -x_1 - 2x_2 - x_3 - 7x_4 = 0\n",
    "   $$"
   ]
  },
  {
   "cell_type": "code",
   "execution_count": null,
   "id": "3376622a",
   "metadata": {},
   "outputs": [],
   "source": [
    "## Python script for problem 2"
   ]
  },
  {
   "cell_type": "markdown",
   "id": "cad7d80f",
   "metadata": {},
   "source": [
    "\n",
    "3. Consider the following subspace of $\\mathbb{R}^4$:  \n",
    "   $$\n",
    "   S = \\text{Span}\\left(\n",
    "   \\begin{bmatrix} 1 \\\\ 2 \\\\ 1 \\\\ 3 \\end{bmatrix},\n",
    "   \\begin{bmatrix} 3 \\\\ 6 \\\\ 3 \\\\ 9 \\end{bmatrix},\n",
    "   \\begin{bmatrix} 1 \\\\ 3 \\\\ 5 \\\\ 4 \\end{bmatrix},\n",
    "   \\begin{bmatrix} 2 \\\\ 3 \\\\ -2 \\\\ 5 \\end{bmatrix}\n",
    "   \\right)\n",
    "   $$  \n",
    "   Find a basis for $S$."
   ]
  },
  {
   "cell_type": "code",
   "execution_count": null,
   "id": "4133181a",
   "metadata": {},
   "outputs": [],
   "source": [
    "## Python script for problem 3"
   ]
  },
  {
   "cell_type": "markdown",
   "id": "e97dd938",
   "metadata": {
    "vscode": {
     "languageId": "plaintext"
    }
   },
   "source": [
    "4. Consider the planes $x_1 + x_2 + 3x_3 = 4$ and $x_1 + 2x_2 + 4x_3 = 5$ in $\\mathbb{R}^3$.  \n",
    "   Find parametric equations for the line of intersection of these two planes. Recall that finding the intersection of the two planes is equivalent to solving the system of equations. A parametric equation just means that the solution ($x_1, x_2, x_3$) will be in terms of a free parameter (variable)."
   ]
  },
  {
   "cell_type": "code",
   "execution_count": null,
   "id": "f9f7b47e",
   "metadata": {},
   "outputs": [],
   "source": [
    "## Python script for problem 4\n"
   ]
  },
  {
   "cell_type": "markdown",
   "id": "089ec8ee",
   "metadata": {},
   "source": [
    "In this cell, explain the solution to the system of equations geometrically.\n",
    "\n",
    "Answer here:"
   ]
  },
  {
   "cell_type": "markdown",
   "id": "2c2b8143",
   "metadata": {},
   "source": [
    "5. Find the rank and determine whether the following matrices are invertible. If the matrix is invertible, compute the inverse.  \n",
    "   (a) $A_1 = \\begin{bmatrix} 3 & 4 \\\\ 1 & 2 \\end{bmatrix}$  \n",
    "   (b) $A_2 = \\begin{bmatrix} 1 & 3 & 1 \\\\ 2 & 5 & 2 \\\\ 4 & 7 & 4 \\end{bmatrix}$  \n",
    "   (c) $A_3 = \\begin{bmatrix} 1 & 0 & 4 \\\\ -1 & 1 & -1 \\\\ -1 & 0 & -3 \\end{bmatrix}$"
   ]
  },
  {
   "cell_type": "code",
   "execution_count": null,
   "id": "2c0e2300",
   "metadata": {},
   "outputs": [],
   "source": [
    "## Python script for problem 5"
   ]
  },
  {
   "cell_type": "markdown",
   "id": "bc9cec88",
   "metadata": {},
   "source": [
    "In this cell, explain the implications of rank of the matrix for solving the non-homogenous system of equations, $Ax = b$, for (a-c).\n",
    "\n",
    "Explain here:"
   ]
  },
  {
   "cell_type": "markdown",
   "id": "c7cbf4f7",
   "metadata": {},
   "source": [
    "6. Given this non-homogeneous system of equations:\n",
    "   $$\n",
    "   x_1 + 2x_2 - x_3 + 3x_4 = 5 \\\\\n",
    "   2x_1 + x_2 + 3x_3 - x_4 = 7 \\\\\n",
    "   3x_1 + 3x_2 + 2x_3 + 2x_4 = 12\n",
    "   $$\n",
    "\n",
    "   (a) Find the general solution to this system of equations.\n",
    "   \n",
    "   (b) Find a basis for the null space of the coefficient matrix.\n",
    "   \n",
    "   (c) Explain geometrically what the solution set represents in $\\mathbb{R}^4$.\n",
    "   \n",
    "   (d) Interpret the null space in the context of this system - what does it tell us about the relationship between the variables?\n",
    "   \n",
    "   (e) How does this relate to inverse problems in Earth science where we have more unknowns than equations?"
   ]
  },
  {
   "cell_type": "code",
   "execution_count": null,
   "id": "1b28e81c",
   "metadata": {},
   "outputs": [],
   "source": [
    "## Python code for problem 6"
   ]
  },
  {
   "cell_type": "markdown",
   "id": "ec0faf63",
   "metadata": {},
   "source": [
    "Enter your answers to (c-e) here:"
   ]
  },
  {
   "cell_type": "markdown",
   "id": "6c271184",
   "metadata": {},
   "source": [
    "7. Return to the projectile motion problem in the Introduction.  Generate a script to create a series of synthetic inversions for initial height, initial velocity, and acceleration of gravity. A synthetic data set is generated from the forward model for specified parameters (initial height, initial velocity, gravity) at specified times with random noise added to the output (heights).\n",
    "\n",
    "Use the following true values:\n",
    "* h0 (initial height) = 100 m\n",
    "* v0 (initial velocity) = 50 m/s\n",
    "* g (gravity) = -9.81 m/s^2\n",
    "\n",
    "(a) Generate the absurd synthetic data set consisting of only two measurements of heights and times. Find the solution (infinite number) and plot some of the solution curves and data. \n",
    "\n",
    "(b) Generate the slightly less absurd systematic data set consisting of only three measurements of heights and times. Plot the solution curve and data.  Add different amounts of noise to create several synthetic data sets. What is the influence of noise on the solution. How well are the true values for (initial height, initial velocity, gravity) recovered?\n",
    "\n",
    "(c) Generate the more realistic synthetic data set consisting of 10 measurements. Plot the best-fitting curve and data. \n",
    "\n",
    "(d) Change one of the synthetic data points in (c) to be an \"outlier\" (which means the data point lies far away from the other data). What does this outlier do to the best-fitting solution?"
   ]
  },
  {
   "cell_type": "code",
   "execution_count": null,
   "id": "0bacd528",
   "metadata": {},
   "outputs": [],
   "source": [
    "## Python code for problem 7"
   ]
  },
  {
   "cell_type": "markdown",
   "id": "18e8e69b",
   "metadata": {},
   "source": [
    "In this cell, explain what you learn from each part of problem 7.\n",
    "\n",
    "Answer here:"
   ]
  }
 ],
 "metadata": {
  "kernelspec": {
   "display_name": "base",
   "language": "python",
   "name": "python3"
  },
  "language_info": {
   "codemirror_mode": {
    "name": "ipython",
    "version": 3
   },
   "file_extension": ".py",
   "mimetype": "text/x-python",
   "name": "python",
   "nbconvert_exporter": "python",
   "pygments_lexer": "ipython3",
   "version": "3.13.5"
  }
 },
 "nbformat": 4,
 "nbformat_minor": 5
}
